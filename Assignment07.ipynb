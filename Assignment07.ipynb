{
  "nbformat": 4,
  "nbformat_minor": 0,
  "metadata": {
    "kernelspec": {
      "display_name": "Python 3",
      "language": "python",
      "name": "python3"
    },
    "language_info": {
      "codemirror_mode": {
        "name": "ipython",
        "version": 3
      },
      "file_extension": ".py",
      "mimetype": "text/x-python",
      "name": "python",
      "nbconvert_exporter": "python",
      "pygments_lexer": "ipython3",
      "version": "3.6.7"
    },
    "colab": {
      "name": "Assignment07.ipynb",
      "provenance": [],
      "collapsed_sections": [],
      "include_colab_link": true
    }
  },
  "cells": [
    {
      "cell_type": "markdown",
      "metadata": {
        "id": "view-in-github",
        "colab_type": "text"
      },
      "source": [
        "<a href=\"https://colab.research.google.com/github/gzuccolo/zuccolotto/blob/master/Assignment07.ipynb\" target=\"_parent\"><img src=\"https://colab.research.google.com/assets/colab-badge.svg\" alt=\"Open In Colab\"/></a>"
      ]
    },
    {
      "cell_type": "code",
      "metadata": {
        "id": "cJ0_PLEzoR8_",
        "colab_type": "code",
        "colab": {}
      },
      "source": [
        "import pandas as pd\n",
        "import numpy as np\n",
        "from numpy.random import shuffle\n",
        "from matplotlib import pyplot as plt\n",
        "%matplotlib inline\n",
        "from scipy.stats import norm"
      ],
      "execution_count": 0,
      "outputs": []
    },
    {
      "cell_type": "code",
      "metadata": {
        "id": "syGLT3maoR9D",
        "colab_type": "code",
        "colab": {}
      },
      "source": [
        "np.random.seed(107) # initialize random number generator"
      ],
      "execution_count": 0,
      "outputs": []
    },
    {
      "cell_type": "code",
      "metadata": {
        "id": "2J7wOFe5oR9G",
        "colab_type": "code",
        "outputId": "51321f35-e7d1-4b79-864f-db27c2fae9da",
        "colab": {
          "base_uri": "https://localhost:8080/",
          "height": 669
        }
      },
      "source": [
        "import pandas as pd\n",
        "PATH = \"http://optimizizer.com/data/tennis2.csv\"  # file location\n",
        "df = pd.read_csv(PATH)  # open csv file and save data to =df=\n",
        "df"
      ],
      "execution_count": 0,
      "outputs": [
        {
          "output_type": "execute_result",
          "data": {
            "text/html": [
              "<div>\n",
              "<style scoped>\n",
              "    .dataframe tbody tr th:only-of-type {\n",
              "        vertical-align: middle;\n",
              "    }\n",
              "\n",
              "    .dataframe tbody tr th {\n",
              "        vertical-align: top;\n",
              "    }\n",
              "\n",
              "    .dataframe thead th {\n",
              "        text-align: right;\n",
              "    }\n",
              "</style>\n",
              "<table border=\"1\" class=\"dataframe\">\n",
              "  <thead>\n",
              "    <tr style=\"text-align: right;\">\n",
              "      <th></th>\n",
              "      <th>speed1</th>\n",
              "      <th>speed2</th>\n",
              "    </tr>\n",
              "  </thead>\n",
              "  <tbody>\n",
              "    <tr>\n",
              "      <th>0</th>\n",
              "      <td>68.20</td>\n",
              "      <td>61.50</td>\n",
              "    </tr>\n",
              "    <tr>\n",
              "      <th>1</th>\n",
              "      <td>82.72</td>\n",
              "      <td>73.55</td>\n",
              "    </tr>\n",
              "    <tr>\n",
              "      <th>2</th>\n",
              "      <td>72.45</td>\n",
              "      <td>81.49</td>\n",
              "    </tr>\n",
              "    <tr>\n",
              "      <th>3</th>\n",
              "      <td>76.55</td>\n",
              "      <td>73.92</td>\n",
              "    </tr>\n",
              "    <tr>\n",
              "      <th>4</th>\n",
              "      <td>77.25</td>\n",
              "      <td>82.60</td>\n",
              "    </tr>\n",
              "    <tr>\n",
              "      <th>5</th>\n",
              "      <td>79.07</td>\n",
              "      <td>75.48</td>\n",
              "    </tr>\n",
              "    <tr>\n",
              "      <th>6</th>\n",
              "      <td>84.61</td>\n",
              "      <td>94.03</td>\n",
              "    </tr>\n",
              "    <tr>\n",
              "      <th>7</th>\n",
              "      <td>68.36</td>\n",
              "      <td>80.69</td>\n",
              "    </tr>\n",
              "    <tr>\n",
              "      <th>8</th>\n",
              "      <td>73.03</td>\n",
              "      <td>84.66</td>\n",
              "    </tr>\n",
              "    <tr>\n",
              "      <th>9</th>\n",
              "      <td>85.07</td>\n",
              "      <td>66.10</td>\n",
              "    </tr>\n",
              "    <tr>\n",
              "      <th>10</th>\n",
              "      <td>68.22</td>\n",
              "      <td>89.81</td>\n",
              "    </tr>\n",
              "    <tr>\n",
              "      <th>11</th>\n",
              "      <td>79.83</td>\n",
              "      <td>78.36</td>\n",
              "    </tr>\n",
              "    <tr>\n",
              "      <th>12</th>\n",
              "      <td>84.58</td>\n",
              "      <td>78.98</td>\n",
              "    </tr>\n",
              "    <tr>\n",
              "      <th>13</th>\n",
              "      <td>84.17</td>\n",
              "      <td>72.73</td>\n",
              "    </tr>\n",
              "    <tr>\n",
              "      <th>14</th>\n",
              "      <td>80.83</td>\n",
              "      <td>79.29</td>\n",
              "    </tr>\n",
              "    <tr>\n",
              "      <th>15</th>\n",
              "      <td>73.08</td>\n",
              "      <td>73.64</td>\n",
              "    </tr>\n",
              "    <tr>\n",
              "      <th>16</th>\n",
              "      <td>79.37</td>\n",
              "      <td>87.30</td>\n",
              "    </tr>\n",
              "    <tr>\n",
              "      <th>17</th>\n",
              "      <td>73.36</td>\n",
              "      <td>83.34</td>\n",
              "    </tr>\n",
              "    <tr>\n",
              "      <th>18</th>\n",
              "      <td>78.10</td>\n",
              "      <td>77.01</td>\n",
              "    </tr>\n",
              "    <tr>\n",
              "      <th>19</th>\n",
              "      <td>60.73</td>\n",
              "      <td>71.22</td>\n",
              "    </tr>\n",
              "  </tbody>\n",
              "</table>\n",
              "</div>"
            ],
            "text/plain": [
              "    speed1  speed2\n",
              "0    68.20   61.50\n",
              "1    82.72   73.55\n",
              "2    72.45   81.49\n",
              "3    76.55   73.92\n",
              "4    77.25   82.60\n",
              "5    79.07   75.48\n",
              "6    84.61   94.03\n",
              "7    68.36   80.69\n",
              "8    73.03   84.66\n",
              "9    85.07   66.10\n",
              "10   68.22   89.81\n",
              "11   79.83   78.36\n",
              "12   84.58   78.98\n",
              "13   84.17   72.73\n",
              "14   80.83   79.29\n",
              "15   73.08   73.64\n",
              "16   79.37   87.30\n",
              "17   73.36   83.34\n",
              "18   78.10   77.01\n",
              "19   60.73   71.22"
            ]
          },
          "metadata": {
            "tags": []
          },
          "execution_count": 4
        }
      ]
    },
    {
      "cell_type": "code",
      "metadata": {
        "id": "hKi7rg0toR9J",
        "colab_type": "code",
        "outputId": "c43e505b-cefb-4ac2-9b77-2e8612513768",
        "colab": {
          "base_uri": "https://localhost:8080/",
          "height": 80
        }
      },
      "source": [
        "# TODO: display the first rows\n",
        "df.head(1)"
      ],
      "execution_count": 0,
      "outputs": [
        {
          "output_type": "execute_result",
          "data": {
            "text/html": [
              "<div>\n",
              "<style scoped>\n",
              "    .dataframe tbody tr th:only-of-type {\n",
              "        vertical-align: middle;\n",
              "    }\n",
              "\n",
              "    .dataframe tbody tr th {\n",
              "        vertical-align: top;\n",
              "    }\n",
              "\n",
              "    .dataframe thead th {\n",
              "        text-align: right;\n",
              "    }\n",
              "</style>\n",
              "<table border=\"1\" class=\"dataframe\">\n",
              "  <thead>\n",
              "    <tr style=\"text-align: right;\">\n",
              "      <th></th>\n",
              "      <th>speed1</th>\n",
              "      <th>speed2</th>\n",
              "    </tr>\n",
              "  </thead>\n",
              "  <tbody>\n",
              "    <tr>\n",
              "      <th>0</th>\n",
              "      <td>68.2</td>\n",
              "      <td>61.5</td>\n",
              "    </tr>\n",
              "  </tbody>\n",
              "</table>\n",
              "</div>"
            ],
            "text/plain": [
              "   speed1  speed2\n",
              "0    68.2    61.5"
            ]
          },
          "metadata": {
            "tags": []
          },
          "execution_count": 15
        }
      ]
    },
    {
      "cell_type": "code",
      "metadata": {
        "id": "RBV5TOS8oR9M",
        "colab_type": "code",
        "outputId": "95e0fcd0-a764-4267-c941-e904fc457fa6",
        "colab": {
          "base_uri": "https://localhost:8080/",
          "height": 374
        }
      },
      "source": [
        "# TODO: select the column speed1 and save it into the variable \"speed1\"\n",
        "speed1 = df.speed1\n",
        "speed1"
      ],
      "execution_count": 0,
      "outputs": [
        {
          "output_type": "execute_result",
          "data": {
            "text/plain": [
              "0     68.20\n",
              "1     82.72\n",
              "2     72.45\n",
              "3     76.55\n",
              "4     77.25\n",
              "5     79.07\n",
              "6     84.61\n",
              "7     68.36\n",
              "8     73.03\n",
              "9     85.07\n",
              "10    68.22\n",
              "11    79.83\n",
              "12    84.58\n",
              "13    84.17\n",
              "14    80.83\n",
              "15    73.08\n",
              "16    79.37\n",
              "17    73.36\n",
              "18    78.10\n",
              "19    60.73\n",
              "Name: speed1, dtype: float64"
            ]
          },
          "metadata": {
            "tags": []
          },
          "execution_count": 17
        }
      ]
    },
    {
      "cell_type": "code",
      "metadata": {
        "id": "XXTo8QXaoR9O",
        "colab_type": "code",
        "outputId": "312028f5-144a-402c-c817-87ab3ec87e67",
        "colab": {
          "base_uri": "https://localhost:8080/",
          "height": 34
        }
      },
      "source": [
        "# TODO: find sample average of \"speed1\", save the result in \"mean1\"\n",
        "# TODO: a.\n",
        "mean1 = speed1.mean()\n",
        "mean1"
      ],
      "execution_count": 0,
      "outputs": [
        {
          "output_type": "execute_result",
          "data": {
            "text/plain": [
              "76.47899999999998"
            ]
          },
          "metadata": {
            "tags": []
          },
          "execution_count": 20
        }
      ]
    },
    {
      "cell_type": "code",
      "metadata": {
        "id": "ytP6qYrsoR9R",
        "colab_type": "code",
        "outputId": "137726df-a2c9-446f-fca0-3ea7670ace2e",
        "colab": {
          "base_uri": "https://localhost:8080/",
          "height": 374
        }
      },
      "source": [
        "# TODO: select the column speed2 and save it into the variable \"speed2\"\n",
        "speed2 = df.speed2\n",
        "speed2"
      ],
      "execution_count": 0,
      "outputs": [
        {
          "output_type": "execute_result",
          "data": {
            "text/plain": [
              "0     61.50\n",
              "1     73.55\n",
              "2     81.49\n",
              "3     73.92\n",
              "4     82.60\n",
              "5     75.48\n",
              "6     94.03\n",
              "7     80.69\n",
              "8     84.66\n",
              "9     66.10\n",
              "10    89.81\n",
              "11    78.36\n",
              "12    78.98\n",
              "13    72.73\n",
              "14    79.29\n",
              "15    73.64\n",
              "16    87.30\n",
              "17    83.34\n",
              "18    77.01\n",
              "19    71.22\n",
              "Name: speed2, dtype: float64"
            ]
          },
          "metadata": {
            "tags": []
          },
          "execution_count": 18
        }
      ]
    },
    {
      "cell_type": "code",
      "metadata": {
        "id": "WQ5LJWAWoR9T",
        "colab_type": "code",
        "outputId": "a2c9fc9c-0dea-49cf-ea70-197cab9d676a",
        "colab": {
          "base_uri": "https://localhost:8080/",
          "height": 34
        }
      },
      "source": [
        "# TODO: find sample average of \"speed2\", save the result in \"mean2\"\n",
        "# TODO: b.\n",
        "mean2 = speed2.mean()\n",
        "mean2"
      ],
      "execution_count": 0,
      "outputs": [
        {
          "output_type": "execute_result",
          "data": {
            "text/plain": [
              "78.285"
            ]
          },
          "metadata": {
            "tags": []
          },
          "execution_count": 21
        }
      ]
    },
    {
      "cell_type": "code",
      "metadata": {
        "id": "KUPlJfUIoR9X",
        "colab_type": "code",
        "outputId": "60d085b5-bd65-42be-ae36-2ecb7dbbf6c1",
        "colab": {
          "base_uri": "https://localhost:8080/",
          "height": 34
        }
      },
      "source": [
        "# TODO: calculate the average of differences speed1-speed2 and \n",
        "# TODO: save it into the variable meandiff\n",
        "# TODO: c.\n",
        "meandiff = mean1-mean2\n",
        "meandiff"
      ],
      "execution_count": 0,
      "outputs": [
        {
          "output_type": "execute_result",
          "data": {
            "text/plain": [
              "-1.8060000000000116"
            ]
          },
          "metadata": {
            "tags": []
          },
          "execution_count": 23
        }
      ]
    },
    {
      "cell_type": "markdown",
      "metadata": {
        "id": "eH78Rh87oR9Z",
        "colab_type": "text"
      },
      "source": [
        "# Permutation Test"
      ]
    },
    {
      "cell_type": "code",
      "metadata": {
        "id": "gzvjY6qvoR9a",
        "colab_type": "code",
        "outputId": "fe5249b1-7465-442c-d36e-6b3b727da0dc",
        "colab": {
          "base_uri": "https://localhost:8080/",
          "height": 102
        }
      },
      "source": [
        "# TODO: Pool together the vectors speed1 and speed2, save the result into the variable \"pooled\"\n",
        "pooled = np.append(speed1, speed2) # change this line\n",
        "pooled"
      ],
      "execution_count": 0,
      "outputs": [
        {
          "output_type": "execute_result",
          "data": {
            "text/plain": [
              "array([68.2 , 82.72, 72.45, 76.55, 77.25, 79.07, 84.61, 68.36, 73.03,\n",
              "       85.07, 68.22, 79.83, 84.58, 84.17, 80.83, 73.08, 79.37, 73.36,\n",
              "       78.1 , 60.73, 61.5 , 73.55, 81.49, 73.92, 82.6 , 75.48, 94.03,\n",
              "       80.69, 84.66, 66.1 , 89.81, 78.36, 78.98, 72.73, 79.29, 73.64,\n",
              "       87.3 , 83.34, 77.01, 71.22])"
            ]
          },
          "metadata": {
            "tags": []
          },
          "execution_count": 28
        }
      ]
    },
    {
      "cell_type": "code",
      "metadata": {
        "id": "zyUJAv0qoR9d",
        "colab_type": "code",
        "outputId": "440c2349-5994-4d65-e16a-be98d6491a26",
        "colab": {
          "base_uri": "https://localhost:8080/",
          "height": 85
        }
      },
      "source": [
        "diff=np.array([])\n",
        "ntrials = 10000 # generate 10000 samples for the permutation test\n",
        "\n",
        "for n in range(ntrials):\n",
        "    shuffle(pooled) # random shuffle\n",
        "    # TODO: split the pooled dataset into two sets A and B\n",
        "    A=pooled[0:19]\n",
        "    B=pooled[19:]\n",
        "    # TODO: calculate average difference between A and B\n",
        "    meanA = np.mean(A)\n",
        "    meanB = np.mean(B)\n",
        "    diff=np.append(diff,meanA-meanB) \n",
        "    # TODO: return average difference as the result\n",
        "    #return 0 #TODO change this line\n",
        "#simdata = [trial() for i in range(ntrials)]\n",
        "    \n",
        "diff[:20]"
      ],
      "execution_count": 0,
      "outputs": [
        {
          "output_type": "execute_result",
          "data": {
            "text/plain": [
              "array([ 0.13353383, -0.67649123,  1.89192982, -0.65243108, -4.22937343,\n",
              "        1.26636591,  1.67037594,  2.8002005 ,  1.53704261,  1.79067669,\n",
              "        0.99869674,  1.71047619,  1.70947368, -2.95318296, -2.66746867,\n",
              "       -2.29253133, -1.3602005 , -2.14015038,  1.84681704, -1.83438596])"
            ]
          },
          "metadata": {
            "tags": []
          },
          "execution_count": 54
        }
      ]
    },
    {
      "cell_type": "code",
      "metadata": {
        "id": "l0PND_CVoR9f",
        "colab_type": "code",
        "outputId": "edda650f-eb15-4e5c-dee4-22dbc88a42a1",
        "colab": {
          "base_uri": "https://localhost:8080/",
          "height": 286
        }
      },
      "source": [
        "#plt.hist(simdata)\n",
        "\n",
        "_=plt.hist(diff,rwidth=0.7,bins='auto',density=True, color='black')\n",
        "plt.vlines(x=-1.8060000000000116, ymin=0, ymax=0.2,colors='r')"
      ],
      "execution_count": 0,
      "outputs": [
        {
          "output_type": "execute_result",
          "data": {
            "text/plain": [
              "<matplotlib.collections.LineCollection at 0x7f4c60b77278>"
            ]
          },
          "metadata": {
            "tags": []
          },
          "execution_count": 53
        },
        {
          "output_type": "display_data",
          "data": {
            "image/png": "[encoded data removed]",
            "text/plain": [
              "<Figure size 432x288 with 1 Axes>"
            ]
          },
          "metadata": {
            "tags": []
          }
        }
      ]
    },
    {
      "cell_type": "code",
      "metadata": {
        "id": "qicr3U2boR9i",
        "colab_type": "code",
        "outputId": "68743e00-47ef-4ec1-d408-6b435a0e0ef1",
        "colab": {
          "base_uri": "https://localhost:8080/",
          "height": 34
        }
      },
      "source": [
        "lower = np.percentile(diff,2.5) # calculate 2.5% percentile, part d.\n",
        "upper = np.percentile(diff,97.5) # calculate 97.5% percentile, part e. \n",
        "print(\"95% CI is [{};{}]\".format(lower,upper))"
      ],
      "execution_count": 55,
      "outputs": [
        {
          "output_type": "stream",
          "text": [
            "95% CI is [-4.467994987468679;4.559624060150364]\n"
          ],
          "name": "stdout"
        }
      ]
    },
    {
      "cell_type": "code",
      "metadata": {
        "id": "RECYfUBvwCg0",
        "colab_type": "code",
        "outputId": "04f5a5e7-a902-4e48-8fff-714ad2484658",
        "colab": {
          "base_uri": "https://localhost:8080/",
          "height": 34
        }
      },
      "source": [
        "diff.mean()"
      ],
      "execution_count": 0,
      "outputs": [
        {
          "output_type": "execute_result",
          "data": {
            "text/plain": [
              "-0.014838496240599923"
            ]
          },
          "metadata": {
            "tags": []
          },
          "execution_count": 45
        }
      ]
    },
    {
      "cell_type": "code",
      "metadata": {
        "id": "FHwnW84cwmQQ",
        "colab_type": "code",
        "outputId": "3926389d-9159-4494-c43b-3cc43badffdf",
        "colab": {
          "base_uri": "https://localhost:8080/",
          "height": 34
        }
      },
      "source": [
        "U-L"
      ],
      "execution_count": 0,
      "outputs": [
        {
          "output_type": "execute_result",
          "data": {
            "text/plain": [
              "8.879398496240569"
            ]
          },
          "metadata": {
            "tags": []
          },
          "execution_count": 46
        }
      ]
    },
    {
      "cell_type": "markdown",
      "metadata": {
        "id": "AELvsMxsoR9l",
        "colab_type": "text"
      },
      "source": [
        "# Reporting Results "
      ]
    },
    {
      "cell_type": "markdown",
      "metadata": {
        "id": "jGZGon-EoR9n",
        "colab_type": "text"
      },
      "source": [
        "Fill in the gaps in the summary report below."
      ]
    },
    {
      "cell_type": "markdown",
      "metadata": {
        "id": "TI2lAkFCoR9o",
        "colab_type": "text"
      },
      "source": [
        "## Report"
      ]
    },
    {
      "cell_type": "markdown",
      "metadata": {
        "id": "gutMVtaSoR9p",
        "colab_type": "text"
      },
      "source": [
        "The 95% interval for the difference in means based on the permutation test is [-4.41899749373432;4.460401002506249]. The observed difference (diff=-1.8060000000000116) is (inside) of this interval. Hence, the difference between two systems (is not) statisitcally significant."
      ]
    },
    {
      "cell_type": "code",
      "metadata": {
        "id": "UF6muqngoR9q",
        "colab_type": "code",
        "colab": {}
      },
      "source": [
        "#The 95% interval for the difference in means based on the permutation test is [-4.41899749373432;4.460401002506249]. \n",
        "#The observed difference (diff=-0.014838496240599923) is (inside) of this interval. \n",
        "#Hence, the difference between two systems (is not) statisitcally significant."
      ],
      "execution_count": 0,
      "outputs": []
    }
  ]
}